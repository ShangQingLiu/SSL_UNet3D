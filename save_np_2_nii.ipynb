{
 "cells": [
  {
   "cell_type": "code",
   "execution_count": null,
   "metadata": {},
   "outputs": [],
   "source": [
    "from medpy.io import load\n",
    "import numpy\n",
    "\n",
    "import nibabel as nib\n",
    "\n",
    "# path = \"./predict_result/result_0.pixel.npy\"\n",
    "path = \"./query_result/result_0.pixel.npy\"\n",
    "data = numpy.load(path)\n",
    "# cp_data = numpy.zeros_like(data)\n",
    "# cp_data_one = numpy.ones_like(data)\n",
    "# cp_data[data<0.05] = 1 \n",
    "# cp_data_one[data<=0.01] =0\n",
    "# cp_data_one[data>0.99] =0\n",
    "# data[data>0.9] = 1\n",
    "# data[data<0.9] = 0\n",
    "\n",
    "data_img = nib.Nifti1Image(data,numpy.eye(4))\n",
    "# nib.save(data_img, \"./predict_nii/predict_0.nii.gz\")\n",
    "nib.save(data_img, \"./query_nii/predict_0.nii.gz\")"
   ]
  },
  {
   "cell_type": "code",
   "execution_count": null,
   "metadata": {},
   "outputs": [],
   "source": []
  }
 ],
 "metadata": {
  "kernelspec": {
   "display_name": "Python 3.8.13 ('unet3d')",
   "language": "python",
   "name": "python3"
  },
  "language_info": {
   "codemirror_mode": {
    "name": "ipython",
    "version": 3
   },
   "file_extension": ".py",
   "mimetype": "text/x-python",
   "name": "python",
   "nbconvert_exporter": "python",
   "pygments_lexer": "ipython3",
   "version": "3.8.13"
  },
  "orig_nbformat": 4,
  "vscode": {
   "interpreter": {
    "hash": "05f2d1a0c395dbcbe4c9360e9d03ffb3e8b47f17932c57d7b4eaccbd70357b44"
   }
  }
 },
 "nbformat": 4,
 "nbformat_minor": 2
}
